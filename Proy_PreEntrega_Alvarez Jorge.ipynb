{
  "nbformat": 4,
  "nbformat_minor": 0,
  "metadata": {
    "colab": {
      "provenance": [],
      "toc_visible": true,
      "authorship_tag": "ABX9TyMtVbZiRt5GigyBoeFfELWa",
      "include_colab_link": true
    },
    "kernelspec": {
      "name": "python3",
      "display_name": "Python 3"
    },
    "language_info": {
      "name": "python"
    }
  },
  "cells": [
    {
      "cell_type": "markdown",
      "metadata": {
        "id": "view-in-github",
        "colab_type": "text"
      },
      "source": [
        "<a href=\"https://colab.research.google.com/github/Jorge-Alvarez-23/Data-Science-II_Coder/blob/main/Proy_PreEntrega_Alvarez%20Jorge.ipynb\" target=\"_parent\"><img src=\"https://colab.research.google.com/assets/colab-badge.svg\" alt=\"Open In Colab\"/></a>"
      ]
    },
    {
      "cell_type": "markdown",
      "source": [
        "# 1- Problematica"
      ],
      "metadata": {
        "id": "H-6qf8nkX2aN"
      }
    },
    {
      "cell_type": "markdown",
      "source": [
        "# 2- Objetivo"
      ],
      "metadata": {
        "id": "EToE2czsX69R"
      }
    },
    {
      "cell_type": "markdown",
      "source": [
        "# 3- DataSet\n"
      ],
      "metadata": {
        "id": "laq7jgYlYD7f"
      }
    },
    {
      "cell_type": "markdown",
      "source": [
        "### Fuente"
      ],
      "metadata": {
        "id": "wpkFAS8LZFeN"
      }
    },
    {
      "cell_type": "markdown",
      "source": [
        "### Caracteristicas Generales"
      ],
      "metadata": {
        "id": "90cuHQq5ZkEG"
      }
    },
    {
      "cell_type": "markdown",
      "source": [
        "### Criterios de Seleccion"
      ],
      "metadata": {
        "id": "v9guvDteZvIC"
      }
    },
    {
      "cell_type": "markdown",
      "source": [
        "# 4- Data wrangling"
      ],
      "metadata": {
        "id": "UpRlr36PZ91Z"
      }
    },
    {
      "cell_type": "markdown",
      "source": [
        "### A. Importación y lectura del dataset"
      ],
      "metadata": {
        "id": "mkOOuqhwaMoX"
      }
    },
    {
      "cell_type": "markdown",
      "source": [
        "### B. Diccionario de variables"
      ],
      "metadata": {
        "id": "ykCrk3W0aoy5"
      }
    },
    {
      "cell_type": "markdown",
      "source": [
        "### C. Análisis de datos faltantes"
      ],
      "metadata": {
        "id": "2afmm0L2avou"
      }
    },
    {
      "cell_type": "markdown",
      "source": [
        "# 5- Análisis exploratorio de los datos"
      ],
      "metadata": {
        "id": "MuRuGdxaa6w8"
      }
    },
    {
      "cell_type": "markdown",
      "source": [
        "### 5.A Análisis Univariado"
      ],
      "metadata": {
        "id": "DhsP1iKHblgQ"
      }
    },
    {
      "cell_type": "markdown",
      "source": [
        "### 5.B Análisis Bivariado"
      ],
      "metadata": {
        "id": "2npeTXU_bsXk"
      }
    },
    {
      "cell_type": "markdown",
      "source": [
        "### 5.C Análisis Multivariado"
      ],
      "metadata": {
        "id": "hzizhXKqb7Rq"
      }
    }
  ]
}