{
  "nbformat": 4,
  "nbformat_minor": 0,
  "metadata": {
    "colab": {
      "provenance": [],
      "toc_visible": true,
      "authorship_tag": "ABX9TyOU5XxhIrcmq7rcHQaf0ha6",
      "include_colab_link": true
    },
    "kernelspec": {
      "name": "python3",
      "display_name": "Python 3"
    },
    "language_info": {
      "name": "python"
    }
  },
  "cells": [
    {
      "cell_type": "markdown",
      "metadata": {
        "id": "view-in-github",
        "colab_type": "text"
      },
      "source": [
        "<a href=\"https://colab.research.google.com/github/Jorge-Alvarez-23/Data-Science-II_Coder/blob/main/Proy_PreEntrega_Alvarez%20Jorge.ipynb\" target=\"_parent\"><img src=\"https://colab.research.google.com/assets/colab-badge.svg\" alt=\"Open In Colab\"/></a>"
      ]
    },
    {
      "cell_type": "markdown",
      "source": [
        "# 1- Problematica"
      ],
      "metadata": {
        "id": "H-6qf8nkX2aN"
      }
    },
    {
      "cell_type": "markdown",
      "source": [
        "El mercado de computadoras se caracteriza por su gran variedad de marcas y especificaciones técnicas, que en conjunto, determinan el valor final de los dispositivos. Tanto para vendedores como para compradores, es crucial entender qué factores tienen un mayor impacto en el precio para tomar decisiones acertadas. Factores como el procesador, la memoria RAM, el almacenamiento, la tarjeta gráfica y el sistema operativo juegan un papel importante en la valoración de una computadora. Este análisis tiene como finalidad identificar las características que más afectan el precio final.\n"
      ],
      "metadata": {
        "id": "RRBJaLjmqwaZ"
      }
    },
    {
      "cell_type": "markdown",
      "source": [
        "# 2- Objetivo"
      ],
      "metadata": {
        "id": "EToE2czsX69R"
      }
    },
    {
      "cell_type": "markdown",
      "source": [
        "### 2.A Objetivo Principal"
      ],
      "metadata": {
        "id": "TclJthgutaar"
      }
    },
    {
      "cell_type": "markdown",
      "source": [
        "¿Qué características las computadoras tienen mayor incidencia en el precio?\n",
        "\n",
        "Determinar como influyen en la variación de precios de las computadoras, las especificaciones técnicas, como ser, el procesador, la memoria RAM, el almacenamiento, la tarjeta gráfica, además de aspectos como la marca y el sistema operativo entre otros. Este análisis tiene como finalidad identificar las características que más afectan el precio final."
      ],
      "metadata": {
        "id": "dbgY6hCDU1c1"
      }
    },
    {
      "cell_type": "markdown",
      "source": [
        "### 2-B Objetivo Secundario"
      ],
      "metadata": {
        "id": "Ksd21wjDtmw7"
      }
    },
    {
      "cell_type": "markdown",
      "source": [
        "1. ¿Como impacta la Generacion del Procesador y Velocidad del Procesado en el precio de las computadoras de diferentes marcas ?\n",
        "\n",
        "\n",
        "2. ¿Como impacta la posibilidad de Memoria Expandible y la Generación del Procesado en el precio de las computadoras"
      ],
      "metadata": {
        "id": "TcwFOO4xXHC8"
      }
    },
    {
      "cell_type": "markdown",
      "source": [
        "# 3- DataSet\n"
      ],
      "metadata": {
        "id": "laq7jgYlYD7f"
      }
    },
    {
      "cell_type": "markdown",
      "source": [
        "### Fuente"
      ],
      "metadata": {
        "id": "wpkFAS8LZFeN"
      }
    },
    {
      "cell_type": "markdown",
      "source": [
        "El dataset utilizado para este proyecto fue descargado del siguiente sitio:\n",
        "\n",
        "[Link:](https://www.kaggle.com/code/devraai/computer-price-prediction-analysis/notebook)\n",
        "\n",
        "\n",
        "\n"
      ],
      "metadata": {
        "id": "mhT24DtrzZf8"
      }
    },
    {
      "cell_type": "markdown",
      "source": [],
      "metadata": {
        "id": "BhyNst_13X2i"
      }
    },
    {
      "cell_type": "markdown",
      "source": [
        "### Caracteristicas Generales"
      ],
      "metadata": {
        "id": "90cuHQq5ZkEG"
      }
    },
    {
      "cell_type": "markdown",
      "source": [
        "Este dataset probee informacion sobre precios de computadoras destacando sus caracteristicas y diversidad de marcas, posee 2467 registros y 28 columnas."
      ],
      "metadata": {
        "id": "DdEXNVAt2lJS"
      }
    },
    {
      "cell_type": "markdown",
      "source": [
        "### Criterios de Seleccion"
      ],
      "metadata": {
        "id": "v9guvDteZvIC"
      }
    },
    {
      "cell_type": "markdown",
      "source": [
        "# 4- Data wrangling"
      ],
      "metadata": {
        "id": "UpRlr36PZ91Z"
      }
    },
    {
      "cell_type": "markdown",
      "source": [
        "### A. Importación y lectura del dataset"
      ],
      "metadata": {
        "id": "mkOOuqhwaMoX"
      }
    },
    {
      "cell_type": "code",
      "source": [
        "import pandas as pd\n",
        "import requests\n",
        "from io import StringIO\n",
        "import matplotlib.pyplot as plt\n",
        "import seaborn as sns\n",
        "import numpy as np"
      ],
      "metadata": {
        "id": "-AyuDN-PMMCf"
      },
      "execution_count": null,
      "outputs": []
    },
    {
      "cell_type": "code",
      "source": [
        "# Bloque de codigo encargado de cargar los datos a partir de una url de github y ponerlos en un dataframe\n",
        "\n",
        "\n",
        "# URL del archivo de texto\n",
        "url = 'https://github.com/Jorge-Alvarez-23/Data-Science-II_Coder/raw/71fd5a73a7c07ffce06afede3fbb38e4ca609c76/masaustu_data_kaggle.csv'\n",
        "\n",
        "# Hacer la solicitud GET para obtener el contenido del archivo\n",
        "response = requests.get(url)\n",
        "\n",
        "# Verificar que la solicitud fue exitosa\n",
        "if response.status_code == 200:\n",
        "    # Leer el contenido CSV directamente en un DataFrame\n",
        "    datos = StringIO(response.text)  # Convertir el texto a un objeto similar a un archivo\n",
        "    df = pd.read_csv(datos)  # Leer el contenido en un DataFrame\n",
        "\n",
        "    # Establecer opción para mostrar todas las columnas\n",
        "    pd.set_option('display.max_columns', None)  # Muestra todas las columnas\n",
        "    pd.set_option('display.expand_frame_repr', False)  # Evita que se divida el DataFrame en múltiples líneas\n",
        "\n",
        "    # Mostrar el DataFrame\n",
        "    print(df)\n",
        "else:\n",
        "    print(f'Error al acceder al archivo: {response.status_code}')"
      ],
      "metadata": {
        "id": "9H2gdJGXL6nl"
      },
      "execution_count": null,
      "outputs": []
    },
    {
      "cell_type": "markdown",
      "source": [
        "### B. Diccionario de variables"
      ],
      "metadata": {
        "id": "ykCrk3W0aoy5"
      }
    },
    {
      "cell_type": "markdown",
      "source": [
        "![image.png](data:image/png;base64,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)"
      ],
      "metadata": {
        "id": "0RpJ5CE5jBGD"
      }
    },
    {
      "cell_type": "markdown",
      "source": [
        "### C. Renombre de Variables"
      ],
      "metadata": {
        "id": "TlF_i8mOm_GH"
      }
    },
    {
      "cell_type": "code",
      "source": [
        "df.columns.tolist()"
      ],
      "metadata": {
        "id": "esasNYMQmtsQ"
      },
      "execution_count": null,
      "outputs": []
    },
    {
      "cell_type": "code",
      "source": [
        "#Para una mayor comprension del dataset, se procedio a traducir el nombre de cada campo al español (se uso IA)\n",
        "\n",
        "df.rename(columns={\n",
        "    'Marka': 'Marca',\n",
        "    'Fiyat': 'Precio',\n",
        "    'İşlemci Tipi':'Tipo_Procesador',\n",
        "    'SSD Kapasitesi': 'Capacidad_SSD',\n",
        "    'Ram (Sistem Belleği)': 'RAM',\n",
        "    'Ekran Kartı': 'Tarj_Grafica',\n",
        "    'Kapasite': 'Capacidad',\n",
        "    'İşletim Sistemi': 'Sist_Operativo',\n",
        "    'Ekran Kartı Bellek Tipi':'Tipo_Memo_TarjGrafica',\n",
        "    'Ekran Kartı Tipi':'Tipo_TarjGrafica',\n",
        "    'Garanti Tipi': 'Tipo_Garantia',\n",
        "    'Ram (Sistem Belleği) Tipi' : 'Tipo_Ram',\n",
        "    'İşlemci Çekirdek Sayısı': 'Cant_Nucleos_Procesador',\n",
        "    'İşlemci Nesli': 'Generacion_Procesador',\n",
        "    'İşlemci Modeli':'Modelo_Procesador',\n",
        "    'Çözünürlük':'Resolucion',\n",
        "    'Power Supply':'Fuente_Poder',\n",
        "    'Kullanım Amacı':'Proposito_Uso',\n",
        "    'Ekran Kartı Hafızası':'Memo_TarjGrafica',\n",
        "    'Temel İşlemci Hızı (GHz)':'Veloc_Procesador(GHz)',\n",
        "    'Bağlantılar':'Conexiones',\n",
        "    'Cihaz Ağırlığı':'Peso_Dispositivo',\n",
        "    'Ekran Boyutu':'Tamaño_Pantalla',\n",
        "    'İşlemci Frekansı':'Frec_Procesador',\n",
        "    'Ekran Yenileme Hızı':'Tasa_Ref_Pantalla',\n",
        "    'Panel Tipi':'Tipo_Panel',\n",
        "    'Menşei':'Origen',\n",
        "    'Arttırılabilir Azami Bellek':'Memo_Max_Expandible'\n",
        "}, inplace=True)\n",
        "\n",
        "df"
      ],
      "metadata": {
        "id": "BrtNIL8YnY1j"
      },
      "execution_count": null,
      "outputs": []
    },
    {
      "cell_type": "markdown",
      "source": [
        "### D. Eliminacion de duplicados"
      ],
      "metadata": {
        "id": "x3BjxYyaoPWM"
      }
    },
    {
      "cell_type": "code",
      "source": [
        "# Muestra la cantidad de registros duplicados\n",
        "\n",
        "duplicados = df.duplicated()\n",
        "print(f\"Duplicados  encontrados: {duplicados.sum()}\")"
      ],
      "metadata": {
        "id": "C9BN5w9qoXDE"
      },
      "execution_count": null,
      "outputs": []
    },
    {
      "cell_type": "code",
      "source": [
        "# Elimina los registro duplicados\n",
        "\n",
        "df = df.drop_duplicates()\n",
        "print(f\"Data despues de eliminar duplicados: {len(df)} filas\")"
      ],
      "metadata": {
        "id": "Hv1TiAK_oeCW"
      },
      "execution_count": null,
      "outputs": []
    },
    {
      "cell_type": "markdown",
      "source": [
        "### E. Análisis de datos faltantes por columnas"
      ],
      "metadata": {
        "id": "2afmm0L2avou"
      }
    },
    {
      "cell_type": "code",
      "source": [
        "#Muestra la cantidad de NULL que presenta cada columna, ordenados en orden ascendente\n",
        "\n",
        "df.isnull().sum().sort_values(ascending=True)"
      ],
      "metadata": {
        "id": "fIE3S6sDmqGO"
      },
      "execution_count": null,
      "outputs": []
    },
    {
      "cell_type": "code",
      "source": [
        "# Calculando la cantidad de valores nulos y el total de registros\n",
        "null_counts = df.isnull().sum()\n",
        "total_records = len(df)\n",
        "\n",
        "# Filtrando las columnas que deseas mostrar\n",
        "columns_to_plot = [\n",
        "    'Marca', 'Precio', 'Tipo_Procesador', 'Capacidad_SSD',\n",
        "    'RAM', 'Tarj_Grafica', 'Capacidad', 'Sist_Operativo',\n",
        "    'Tipo_Memo_TarjGrafica', 'Tipo_TarjGrafica', 'Tipo_Garantia',\n",
        "    'Tipo_Ram', 'Cant_Nucleos_Procesador', 'Generacion_Procesador',\n",
        "    'Modelo_Procesador', 'Resolucion', 'Fuente_Poder',\n",
        "    'Proposito_Uso', 'Memo_TarjGrafica', 'Veloc_Procesador(GHz)',\n",
        "    'Conexiones', 'Peso_Dispositivo', 'Tamaño_Pantalla',\n",
        "    'Frec_Procesador', 'Tasa_Ref_Pantalla', 'Tipo_Panel',\n",
        "    'Origen', 'Memo_Max_Expandible'\n",
        "]\n",
        "\n",
        "# Filtra las cuentas de nulos para las columnas específicas\n",
        "null_counts_filtered = null_counts[columns_to_plot]\n",
        "\n",
        "# Grafica\n",
        "plt.figure(figsize=(12, 8))\n",
        "ax = null_counts_filtered.plot(kind='bar', color='skyblue')\n",
        "\n",
        "# Ajusta los límites del eje x para que reflejen el total de registros del DataFrame\n",
        "ax.set_ylim(0, total_records)\n",
        "\n",
        "# Establecer el título, etiquetas y añadir cuadrícula\n",
        "plt.title('Cantidad de Valores Nulos por Columna')\n",
        "plt.xlabel('Columnas')\n",
        "plt.ylabel('Cantidad de Valores Nulos')\n",
        "\n",
        "plt.xticks(rotation=45)\n",
        "plt.grid(axis='y')\n",
        "plt.show()"
      ],
      "metadata": {
        "id": "sPyoGBzb8SBz"
      },
      "execution_count": null,
      "outputs": []
    },
    {
      "cell_type": "markdown",
      "source": [
        "En este grafico de barras se puede observar de una manera visual, la insidencia de valores nulos en cada variable del dataframe."
      ],
      "metadata": {
        "id": "m_Plkmd09EpY"
      }
    },
    {
      "cell_type": "code",
      "source": [],
      "metadata": {
        "id": "RGvLJOMhAbGh"
      },
      "execution_count": null,
      "outputs": []
    },
    {
      "cell_type": "code",
      "source": [
        "# Calculando la cantidad de valores nulos y el total de registros\n",
        "null_counts = df.isnull().sum()\n",
        "total_records = len(df)\n",
        "\n",
        "# Filtrando solo las columnas que tienen más del 50% de nulos\n",
        "threshold = total_records * 0.5\n",
        "null_counts_filtered = null_counts[null_counts > threshold]\n",
        "\n",
        "# Grafico\n",
        "plt.figure(figsize=(12, 8))\n",
        "ax = null_counts_filtered.plot(kind='bar', color='skyblue')\n",
        "\n",
        "# Establecer el límite del eje y igual al total de registros del DataFrame\n",
        "ax.set_ylim(0, total_records)\n",
        "\n",
        "# Establecer el título, etiquetas y añadir cuadrícula\n",
        "plt.title('Cantidad de Valores Nulos por Columna (Más del 50% de Nulos)')\n",
        "plt.xlabel('Columnas')\n",
        "plt.ylabel('Cantidad de Valores Nulos')\n",
        "\n",
        "# Añadiendo el número de nulos sobre cada barra\n",
        "for i in range(len(null_counts_filtered)):\n",
        "    ax.text(i, null_counts_filtered.iloc[i] + 0.1, f'{null_counts_filtered.iloc[i]}', ha='center')\n",
        "\n",
        "plt.xticks(rotation=45)\n",
        "plt.grid(axis='y')\n",
        "plt.show()\n"
      ],
      "metadata": {
        "id": "72JDss8hAbcG"
      },
      "execution_count": null,
      "outputs": []
    },
    {
      "cell_type": "markdown",
      "source": [
        "\n",
        "\n",
        "De acuerdo a lo encontrado en el grafico podemos considerar lo siguiente se podrian eliminar las columnas origen, tipo_panel, tasa_ref_pantalla, frec_procesador, fuente_poder, peso_Dispositivo por el alto numero de valores nulos que presentan estas columnas"
      ],
      "metadata": {
        "id": "ouU7jfvzAdXT"
      }
    },
    {
      "cell_type": "markdown",
      "source": [
        "####  Eliminacion de Variables"
      ],
      "metadata": {
        "id": "Ex2S9VmqAyli"
      }
    },
    {
      "cell_type": "code",
      "source": [
        "# se eliminaran las columnas con un alto nivel de valores nulos   \"NOTA PARA TENER EN CUENTA: JUSTIFICAR EL PORQUE SE ELIMINA CADA CAMPO\"\n",
        "# Eliminar las columnas especificadas\n",
        "columns_to_remove = [\n",
        "    'Fuente_Poder',\n",
        "    'Peso_Dispositivo',\n",
        "    'Tamaño_Pantalla',\n",
        "    'Frec_Procesador',\n",
        "    'Tasa_Ref_Pantalla',\n",
        "    'Tipo_Panel',\n",
        "    'Origen'\n",
        "]\n",
        "\n",
        "df.drop(columns=columns_to_remove, inplace=True)\n",
        "\n",
        "# Verificación de las columnas restantes en el DataFrame\n"
      ],
      "metadata": {
        "id": "e9nm7jrxBIhf"
      },
      "execution_count": null,
      "outputs": []
    },
    {
      "cell_type": "markdown",
      "source": [
        "### F. Análisis de datos faltantes por Filas"
      ],
      "metadata": {
        "id": "3JcoyJDZFTxu"
      }
    },
    {
      "cell_type": "code",
      "source": [
        "# gráfico de calor que muestre visualmente la presencia de valores nulos en tu DataFrame\n",
        "#Crear un DataFrame que marque los valores nulos como True\n",
        "null_heatmap = df.isnull()\n",
        "\n",
        "# Crear el gráfico de calor\n",
        "plt.figure(figsize=(12, 8))\n",
        "sns.heatmap(null_heatmap, cmap='viridis', cbar=False, yticklabels=False)\n",
        "plt.title('Mapa de Calor de Valores Nulos')\n",
        "plt.xlabel('Columnas')\n",
        "plt.ylabel('Índices de Registros')\n",
        "plt.xticks(ticks=np.arange(len(null_heatmap.columns)) + 0.5, labels=null_heatmap.columns, rotation=45)\n",
        "plt.show()"
      ],
      "metadata": {
        "id": "GJ6S3CJ9FeMX"
      },
      "execution_count": null,
      "outputs": []
    },
    {
      "cell_type": "code",
      "source": [
        "# Se muestra los registros a traves de sus indeces que mas valores nulos presentan, ordenados de forma descendente\n",
        "\n",
        "df.isnull().sum(axis=1).sort_values(ascending=False).head(20)"
      ],
      "metadata": {
        "id": "mG9vgHbyFriY"
      },
      "execution_count": null,
      "outputs": []
    },
    {
      "cell_type": "code",
      "source": [
        "# Muestra los registros que tienen  16 o mas campos con valores nulos\n",
        "df[df.isnull().sum(axis=1) >=16].reset_index()"
      ],
      "metadata": {
        "id": "L9lj5g9rGHNM"
      },
      "execution_count": null,
      "outputs": []
    },
    {
      "cell_type": "markdown",
      "source": [
        "#### Eliminacion de Registros con un alto indice de valores nulos."
      ],
      "metadata": {
        "id": "z-OdPVxaGfC1"
      }
    },
    {
      "cell_type": "code",
      "source": [
        "# Se procede a eliminar los registros con un alto indice de valores nulos en sus columnas (condicion de eliminacion 16 o mas columnas vacias)\n",
        "\n",
        "df.drop(index=df[df.isnull().sum(axis=1) >=16].index, inplace=True)"
      ],
      "metadata": {
        "id": "7iRAnrB0GwDi"
      },
      "execution_count": null,
      "outputs": []
    },
    {
      "cell_type": "markdown",
      "source": [
        "Una Vez que se identifico las filas y columnas con un alto grado de nuevos, se procedio a eliminarlas. Ahora el proximo paso es evaluar las columnas restantes y definir una metodologia para tratar los valores nulos de las mismas."
      ],
      "metadata": {
        "id": "fxqnnjh6HKXp"
      }
    },
    {
      "cell_type": "markdown",
      "source": [
        "# 5- Análisis exploratorio de los datos"
      ],
      "metadata": {
        "id": "MuRuGdxaa6w8"
      }
    },
    {
      "cell_type": "markdown",
      "source": [
        "### 5.A Análisis Univariado"
      ],
      "metadata": {
        "id": "DhsP1iKHblgQ"
      }
    },
    {
      "cell_type": "markdown",
      "source": [
        "### 5.B Análisis Bivariado"
      ],
      "metadata": {
        "id": "2npeTXU_bsXk"
      }
    },
    {
      "cell_type": "markdown",
      "source": [
        "### 5.C Análisis Multivariado"
      ],
      "metadata": {
        "id": "hzizhXKqb7Rq"
      }
    }
  ]
}